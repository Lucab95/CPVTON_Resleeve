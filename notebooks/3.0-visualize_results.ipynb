{
 "cells": [
  {
   "cell_type": "code",
   "execution_count": 1,
   "metadata": {},
   "outputs": [],
   "source": [
    "import argparse\n",
    "from pathlib import Path\n",
    "import os\n",
    "initial_path= os.getcwd()\n",
    "os.chdir(Path(initial_path).parent)\n",
    "from src.visualization.visualize import read_image,hconcat_resize_min\n",
    "from src.utils import get_args\n",
    "import cv2\n"
   ]
  },
  {
   "cell_type": "code",
   "execution_count": 2,
   "metadata": {},
   "outputs": [],
   "source": [
    "args= get_args()\n",
    "label_path = Path(args.dataroot,args.data_list)\n",
    "processed_folder= os.path.join(args.dataroot,\"processed\")\n",
    "\n",
    "image_names = []\n",
    "for line in label_path.open():\n",
    "    line=line.strip()\n",
    "    img_path = line.split(' ')[0]\n",
    "    cloth_path= line.split(' ')[1]\n",
    "    image_names.append((img_path,cloth_path))"
   ]
  },
  {
   "cell_type": "code",
   "execution_count": 10,
   "metadata": {},
   "outputs": [],
   "source": [
    "result_dir = os.path.join(args.result_dir,\"TOM\",args.datamode,\"try-on\")\n",
    "for image_name,cloth_name in image_names:\n",
    "    image_path = os.path.join(processed_folder,\"image\",image_name)\n",
    "    cloth_path = os.path.join(processed_folder,\"cloth\",cloth_name)\n",
    "    result_path = os.path.join(result_dir,image_name)\n",
    "    image = read_image(image_path,module='cv2',size=(192,256))\n",
    "    cloth = read_image(cloth_path,module='cv2',size=(192,256))\n",
    "    result = read_image(result_path,module='cv2',size=(192,256))\n",
    "    im_h_resize = hconcat_resize_min([image, cloth, result])\n",
    "    cv2.imshow(\"img, cloth, try-on\", im_h_resize)\n",
    "    cv2.waitKey(0)\n",
    "    cv2.destroyAllWindows()\n"
   ]
  }
 ],
 "metadata": {
  "kernelspec": {
   "display_name": "Python 3.7.11 ('ml')",
   "language": "python",
   "name": "python3"
  },
  "language_info": {
   "codemirror_mode": {
    "name": "ipython",
    "version": 3
   },
   "file_extension": ".py",
   "mimetype": "text/x-python",
   "name": "python",
   "nbconvert_exporter": "python",
   "pygments_lexer": "ipython3",
   "version": "3.7.11"
  },
  "orig_nbformat": 4,
  "vscode": {
   "interpreter": {
    "hash": "9bdb3465f43f7d16caa905e3d914a6bad88d39cba4b7b03ec8828b71d149d992"
   }
  }
 },
 "nbformat": 4,
 "nbformat_minor": 2
}
